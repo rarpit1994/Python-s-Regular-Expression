{
 "cells": [
  {
   "cell_type": "markdown",
   "metadata": {},
   "source": [
    "<h1> Regex Tutorial </h1><br>\n",
    "Importing the Regular Expression library alias as re."
   ]
  },
  {
   "cell_type": "code",
   "execution_count": 1,
   "metadata": {},
   "outputs": [],
   "source": [
    "import re as re"
   ]
  },
  {
   "cell_type": "markdown",
   "metadata": {},
   "source": [
    "<b>Following functions of the Regualr Expression Library (RE) in this order to find the pattern in the given string/document. </b>\n",
    "\n",
    "<b>1. compile() Function </b><br><br>\n",
    "    To insert the regex pattern into the regex object.\n",
    "    e.g. If we need to search \"Python\" in the document or a string.\n",
    "         We need to provide this regex pattern in the regex object.<br><br>\n",
    "         <b>pattern = re.compile('Python')</b><br><br>\n",
    "         So, passing this pattern RE object in the type function to check whether its a RE object or not."
   ]
  },
  {
   "cell_type": "code",
   "execution_count": 2,
   "metadata": {},
   "outputs": [
    {
     "name": "stdout",
     "output_type": "stream",
     "text": [
      "<class 're.Pattern'>\n"
     ]
    }
   ],
   "source": [
    "pattern = re.compile('Python')\n",
    "print(type(pattern))"
   ]
  },
  {
   "cell_type": "markdown",
   "metadata": {},
   "source": [
    "<b>2. finditer( ) Function</b><br><br>\n",
    "   It return the iterator object whenever it matches for every match.<br><br>\n",
    "   Once you have created the matcher object you can apply following sub-fucntions on the matcher object.<br>\n",
    "   <ol>\n",
    "    <li><b>start()</b> ----> Returns starting index of the matched pattern.</li>\n",
    "    <li><b>end()</b> ----> Returns (end+1) index of the matched pattern.</li>\n",
    "    <li><b>group()</b> ----> Returns the part of the string where there was a match.</li>\n",
    "   </ol>"
   ]
  },
  {
   "cell_type": "markdown",
   "metadata": {},
   "source": [
    "<b>For the below example:</b><br><br>\n",
    "Characters:<br><br>\n",
    "<b>Index:Position</b><br><br>\n",
    "L:0<br>\n",
    "e:1<br>\n",
    "a:2<br>\n",
    "r:3<br>\n",
    "n:4<br>\n",
    "i:5<br>\n",
    "n:6<br>\n",
    "g:7<br><br>\n",
    "    :8<br><br>\n",
    "P:9<br>\n",
    "y:10<br>\n",
    "t<br>\n",
    "h<br>\n",
    "o<br>\n",
    "n<br><br>\n",
    "... so on. <br>"
   ]
  },
  {
   "cell_type": "code",
   "execution_count": 3,
   "metadata": {},
   "outputs": [
    {
     "name": "stdout",
     "output_type": "stream",
     "text": [
      "Python is available at start index: 9\n",
      "Python is available at start index: 30\n",
      "The number of occurances of Python is: 2\n"
     ]
    }
   ],
   "source": [
    "count=0\n",
    "matcher = pattern.finditer('Learning Python is very easy. Python is very useful language')\n",
    "for match in matcher:\n",
    "    print(\"Python is available at start index:\", match.start())\n",
    "    count+=1\n",
    "print(\"The number of occurances of Python is: {}\".format(count))"
   ]
  },
  {
   "cell_type": "code",
   "execution_count": 4,
   "metadata": {},
   "outputs": [
    {
     "name": "stdout",
     "output_type": "stream",
     "text": [
      "Python is at start:9, from end:15, group:Python\n",
      "Python is at start:30, from end:36, group:Python\n",
      "The number of occurances of Python is: 2\n"
     ]
    }
   ],
   "source": [
    "count=0\n",
    "matcher = pattern.finditer('Learning Python is very easy. Python is very useful language')\n",
    "for match in matcher:\n",
    "    count+=1\n",
    "    print(\"Python is at start:{}, from end:{}, group:{}\".format(match.start(),match.end(),match.group()))\n",
    "print(\"The number of occurances of Python is: {}\".format(count))"
   ]
  },
  {
   "cell_type": "code",
   "execution_count": 5,
   "metadata": {},
   "outputs": [
    {
     "name": "stdout",
     "output_type": "stream",
     "text": [
      "Python is at start:9, from end:15, group:Python\n",
      "Python is at start:30, from end:36, group:Python\n",
      "The number of occurances of Python is: 2\n"
     ]
    }
   ],
   "source": [
    "pattern = re.compile('Python')\n",
    "count=0\n",
    "matcher = pattern.finditer('Learning Python is very easy. Python is very useful language')\n",
    "for match in matcher:\n",
    "    count+=1\n",
    "    print(\"Python is at start:{}, from end:{}, group:{}\".format(match.start(),match.end(),match.group()))\n",
    "print(\"The number of occurances of Python is: {}\".format(count))"
   ]
  },
  {
   "cell_type": "markdown",
   "metadata": {},
   "source": [
    "<b>Optimized way to write above code to find the pattern without using the compile() function and directly using the finditer() function.\n",
    "<br><br>\n",
    "finditer('pattern','target string')"
   ]
  },
  {
   "cell_type": "code",
   "execution_count": 6,
   "metadata": {},
   "outputs": [
    {
     "name": "stdout",
     "output_type": "stream",
     "text": [
      "Python is at start:9, from end:15, group:Python\n",
      "Python is at start:30, from end:36, group:Python\n",
      "The number of occurances of Python is: 2\n"
     ]
    }
   ],
   "source": [
    "count=0\n",
    "matcher = re.finditer('Python','Learning Python is very easy. Python is very useful language')\n",
    "for match in matcher:\n",
    "    count+=1\n",
    "    print(\"Python is at start:{}, from end:{}, group:{}\".format(match.start(),match.end(),match.group()))\n",
    "print(\"The number of occurances of Python is: {}\".format(count))"
   ]
  },
  {
   "cell_type": "markdown",
   "metadata": {},
   "source": [
    "<b>Meta-Characters in the python's regular expression.</b><br><br>\n",
    "\n",
    "<ol>\n",
    "    <li><b>[ ]</b> ==>\tA set of characters\te.g. \"[a-m]\"</li>\t\n",
    "    <li><b>\\</b> ==>\tSignals a special sequence (can also be used to escape special characters)\te.g. \"\\d\"</li>\t\n",
    "    <li><b>.</b> ==>\tAny character (except newline character)\te.g. \"he..o\"</li>\t\n",
    "    <li><b>^</b> ==>\tStarts with\te.g. \"^hello\"</li>\t\n",
    "    <li><b> dollor sign </b> ==>\tEnds with\te.g. \"worldd-ollor_sign\"</li>\t\n",
    "    <li><b>*</b> ==>\tZero or more occurrences\te.g. \"aix*\"</li>\t\n",
    "    <li><b>+</b> ==>\tOne or more occurrences\te.g. \"aix+\"</li>\t\n",
    "    <li><b>{}</b> ==>\tExactly the specified number of occurrences\te.g. \"al{2}\"</li>\t\n",
    "    <li><b>|</b> ==>\tEither or\te.g. \"falls|stays\"</li>\t\n",
    "    <li><b>()</b> ==>\tCapture and group</li>\n",
    "</ol><br><br>\n",
    "\n",
    "<b> Character Classes in the python's regular expression</b>\n",
    "<ol>\n",
    "    <li><b>[ ]</b> ==> character class representation.</li>\n",
    "    <li><b>[abc]</b> ==> either a or b or c</li>\n",
    "    <li><b>[^abc]</b> ==> except a, b and c</li>\n",
    "    <li><b>[a-z]</b> ==> Any lower case alphabet symbols</li>\n",
    "    <li><b>[A-z]</b> ==> Any upper case alphabet symbols</li>\n",
    "    <li><b>[a-zA-Z]</b> ==> Any alphabet symbols</li>\n",
    "    <li><b>[0-9]</b> ==> any digits</li>\n",
    "    <li><b>[^0-9]</b> ==> except any digits</li>\n",
    "    <li><b>[a-zA-Z0-9]</b> ==> any alphanumeric</li>\n",
    "    <li><b>[^a-zA-Z0-9]</b> ==> except any alphanumeric</li>\n",
    "</ol>\n",
    "<br><br><br>\n",
    "\n",
    "<b>The following examples showing how to work with the character classes in the python.</b>"
   ]
  },
  {
   "cell_type": "code",
   "execution_count": 7,
   "metadata": {},
   "outputs": [
    {
     "name": "stdout",
     "output_type": "stream",
     "text": [
      "any a,b and c in the string at start:0, group:c\n",
      "any a,b and c in the string at start:3, group:b\n",
      "any a,b and c in the string at start:9, group:a\n",
      "any a,b and c in the string at start:20, group:b\n",
      "any a,b and c in the string at start:21, group:c\n",
      "any a,b and c in the string at start:22, group:a\n"
     ]
    }
   ],
   "source": [
    "matcher = re.finditer('[abc]','cinbnsd%7a02397%$#@7bcajdff;')\n",
    "for match in matcher:\n",
    "    print(\"any a,b and c in the string at start:{}, group:{}\".format(match.start(),match.group()))"
   ]
  },
  {
   "cell_type": "code",
   "execution_count": 8,
   "metadata": {},
   "outputs": [
    {
     "name": "stdout",
     "output_type": "stream",
     "text": [
      "Except a,b and c in the string at start:1, group:i\n",
      "Except a,b and c in the string at start:2, group:n\n",
      "Except a,b and c in the string at start:4, group:n\n",
      "Except a,b and c in the string at start:5, group:s\n",
      "Except a,b and c in the string at start:6, group:d\n",
      "Except a,b and c in the string at start:7, group:%\n",
      "Except a,b and c in the string at start:8, group:7\n",
      "Except a,b and c in the string at start:10, group:0\n",
      "Except a,b and c in the string at start:11, group:2\n",
      "Except a,b and c in the string at start:12, group:3\n",
      "Except a,b and c in the string at start:13, group:9\n",
      "Except a,b and c in the string at start:14, group:7\n",
      "Except a,b and c in the string at start:15, group:%\n",
      "Except a,b and c in the string at start:16, group:$\n",
      "Except a,b and c in the string at start:17, group:#\n",
      "Except a,b and c in the string at start:18, group:@\n",
      "Except a,b and c in the string at start:19, group:7\n",
      "Except a,b and c in the string at start:23, group:j\n",
      "Except a,b and c in the string at start:24, group:d\n",
      "Except a,b and c in the string at start:25, group:f\n",
      "Except a,b and c in the string at start:26, group:f\n",
      "Except a,b and c in the string at start:27, group:;\n"
     ]
    }
   ],
   "source": [
    "matcher = re.finditer('[^abc]','cinbnsd%7a02397%$#@7bcajdff;')\n",
    "for match in matcher:\n",
    "    print(\"Except a,b and c in the string at start:{}, group:{}\".format(match.start(),match.group()))"
   ]
  },
  {
   "cell_type": "code",
   "execution_count": 9,
   "metadata": {},
   "outputs": [
    {
     "name": "stdout",
     "output_type": "stream",
     "text": [
      "any 0 to 9 digits in the string at start:8, group:7\n",
      "any 0 to 9 digits in the string at start:10, group:0\n",
      "any 0 to 9 digits in the string at start:11, group:2\n",
      "any 0 to 9 digits in the string at start:12, group:3\n",
      "any 0 to 9 digits in the string at start:13, group:9\n",
      "any 0 to 9 digits in the string at start:14, group:7\n",
      "any 0 to 9 digits in the string at start:19, group:7\n"
     ]
    }
   ],
   "source": [
    "matcher = re.finditer('[0-9]','cinbnsd%7a02397%$#@7bcajdff;')\n",
    "for match in matcher:\n",
    "    print(\"any 0 to 9 digits in the string at start:{}, group:{}\".format(match.start(),match.group()))"
   ]
  },
  {
   "cell_type": "code",
   "execution_count": 10,
   "metadata": {},
   "outputs": [
    {
     "name": "stdout",
     "output_type": "stream",
     "text": [
      "Except 0 to 9 digits in the string at start:0, group:c\n",
      "Except 0 to 9 digits in the string at start:1, group:i\n",
      "Except 0 to 9 digits in the string at start:2, group:n\n",
      "Except 0 to 9 digits in the string at start:3, group:b\n",
      "Except 0 to 9 digits in the string at start:4, group:n\n",
      "Except 0 to 9 digits in the string at start:5, group:s\n",
      "Except 0 to 9 digits in the string at start:6, group:d\n",
      "Except 0 to 9 digits in the string at start:7, group:%\n",
      "Except 0 to 9 digits in the string at start:9, group:a\n",
      "Except 0 to 9 digits in the string at start:15, group:%\n",
      "Except 0 to 9 digits in the string at start:16, group:$\n",
      "Except 0 to 9 digits in the string at start:17, group:#\n",
      "Except 0 to 9 digits in the string at start:18, group:@\n",
      "Except 0 to 9 digits in the string at start:20, group:b\n",
      "Except 0 to 9 digits in the string at start:21, group:c\n",
      "Except 0 to 9 digits in the string at start:22, group:a\n",
      "Except 0 to 9 digits in the string at start:23, group:j\n",
      "Except 0 to 9 digits in the string at start:24, group:d\n",
      "Except 0 to 9 digits in the string at start:25, group:f\n",
      "Except 0 to 9 digits in the string at start:26, group:f\n",
      "Except 0 to 9 digits in the string at start:27, group:;\n"
     ]
    }
   ],
   "source": [
    "matcher = re.finditer('[^0-9]','cinbnsd%7a02397%$#@7bcajdff;')\n",
    "for match in matcher:\n",
    "    print(\"Except 0 to 9 digits in the string at start:{}, group:{}\".format(match.start(),match.group()))"
   ]
  },
  {
   "cell_type": "markdown",
   "metadata": {},
   "source": [
    "<b>Special Sequences of the Character class</b>\n",
    "<ol>\n",
    "    <li><b>\\A</b> ----> Returns a match if the specified characters are at the beginning of the string. e.g. \"\\AThe\"</li>\n",
    "    <li><b>\\b</b> ----> Returns a match where the specified characters are at the beginning or at the end of a word. e.g. r\"\\bain\" or r\"ain\\b\" </li>\n",
    "    <li><b>\\B</b> ----> Returns a match where the specified characters are present, but NOT at the beginning (or at the end) of a word. e.g. r\"\\Bain\"</li>\n",
    "    <li><b>\\Z</b> ----> Returns a match if the specified characters are at the end of the string. e.g. \"Spain\\Z\" </li>\n",
    "    <li><b>\\s</b> ----> Space Character</li>\n",
    "    <li><b>\\S</b> ----> Except space character</li>\n",
    "    <li><b>\\d</b> ----> any digit or shortcut of [0-9]</li>\n",
    "    <li><b>\\D</b> ----> Except any digit or shortcut of [^0-9]</li>\n",
    "    <li><b>\\w</b> ----> Any word character(alphanumeric) or shortcut of [a-zA-Z0-9]</li>\n",
    "    <li><b>\\W</b>  ----> Except Any word character(alphanumeric) or shortcut of [^a-zA-Z0-9]</li>\n",
    "</ol>"
   ]
  },
  {
   "cell_type": "code",
   "execution_count": 11,
   "metadata": {},
   "outputs": [
    {
     "name": "stdout",
     "output_type": "stream",
     "text": [
      "space available in the string at start:3, group: \n"
     ]
    }
   ],
   "source": [
    "matcher = re.finditer('\\s','cin bnsd%7a02397%$#@7bcajdff;')\n",
    "for match in matcher:\n",
    "    print(\"space available in the string at start:{}, group:{}\".format(match.start(),match.group()))"
   ]
  },
  {
   "cell_type": "code",
   "execution_count": 12,
   "metadata": {},
   "outputs": [
    {
     "name": "stdout",
     "output_type": "stream",
     "text": [
      "Character in the string at start:0, group:c\n",
      "Character in the string at start:1, group:i\n",
      "Character in the string at start:2, group:n\n",
      "Character in the string at start:3, group: \n",
      "Character in the string at start:4, group:b\n",
      "Character in the string at start:5, group:n\n",
      "Character in the string at start:6, group:s\n",
      "Character in the string at start:7, group:d\n",
      "Character in the string at start:8, group:%\n",
      "Character in the string at start:9, group:7\n",
      "Character in the string at start:10, group:a\n",
      "Character in the string at start:11, group:0\n",
      "Character in the string at start:12, group:2\n",
      "Character in the string at start:13, group:7\n",
      "Character in the string at start:14, group:%\n",
      "Character in the string at start:15, group:$\n",
      "Character in the string at start:16, group:7\n",
      "Character in the string at start:17, group:b\n",
      "Character in the string at start:18, group:c\n",
      "Character in the string at start:19, group:a\n",
      "Character in the string at start:20, group:j\n",
      "Character in the string at start:21, group:d\n",
      "Character in the string at start:22, group:f\n",
      "Character in the string at start:23, group:f\n",
      "Character in the string at start:24, group:;\n"
     ]
    }
   ],
   "source": [
    "matcher = re.finditer('.','cin bnsd%7a027%$7bcajdff;')\n",
    "for match in matcher:\n",
    "    print(\"Character in the string at start:{}, group:{}\".format(match.start(),match.group()))"
   ]
  },
  {
   "cell_type": "markdown",
   "metadata": {},
   "source": [
    "<b>Quantifiers with the actual use::: </b>\n",
    "The number of occurances\n",
    "<ol>\n",
    "    <li><b>a</b> ----> Exactly one 'a' </li>\n",
    "    <li><b>a+</b> ----> Atleast one 'a' </li>\n",
    "    <li><b>a*</b> ----> Any number of a's including zero number also</li>\n",
    "    <li><b>a?</b> ----> Atmost one a................ \n",
    "                 either one a or zero number of a's</li>\n",
    "    <li><b>a{n}</b> ----> Exactly n number of a's</li>\n",
    "    <li><b>a{m,n}</b> ----> Minimum m number of a's and maximum n number of a's</li>\n",
    "    <li><b>a^</b> ---> it will check whether the given target string starts with 'a' or not</li>\n",
    "    <li><b>a$</b> ----> it will check whether the string ends with 'a' or not</li>\n",
    "    </ol>"
   ]
  },
  {
   "cell_type": "code",
   "execution_count": 13,
   "metadata": {},
   "outputs": [
    {
     "name": "stdout",
     "output_type": "stream",
     "text": [
      "Count of 'a' in the string at start:0, group:aa\n",
      "Count of 'a' in the string at start:11, group:a\n",
      "Count of 'a' in the string at start:20, group:a\n"
     ]
    }
   ],
   "source": [
    "matcher = re.finditer('a+','aacinbnsd%7a027%$7bcajdff;')\n",
    "for match in matcher:\n",
    "    print(\"Count of 'a' in the string at start:{}, group:{}\".format(match.start(),match.group()))"
   ]
  },
  {
   "cell_type": "code",
   "execution_count": 14,
   "metadata": {},
   "outputs": [
    {
     "name": "stdout",
     "output_type": "stream",
     "text": [
      "Count of 'a' in the string at start:0, group:aa\n",
      "Count of 'a' in the string at start:2, group:\n",
      "Count of 'a' in the string at start:3, group:\n",
      "Count of 'a' in the string at start:4, group:a\n",
      "Count of 'a' in the string at start:5, group:\n",
      "Count of 'a' in the string at start:6, group:\n",
      "Count of 'a' in the string at start:7, group:\n",
      "Count of 'a' in the string at start:8, group:\n",
      "Count of 'a' in the string at start:9, group:a\n",
      "Count of 'a' in the string at start:10, group:\n",
      "Count of 'a' in the string at start:11, group:\n"
     ]
    }
   ],
   "source": [
    "matcher = re.finditer('a*','aacia07bca;')\n",
    "for match in matcher:\n",
    "    print(\"Count of 'a' in the string at start:{}, group:{}\".format(match.start(),match.group()))"
   ]
  },
  {
   "cell_type": "code",
   "execution_count": 15,
   "metadata": {},
   "outputs": [
    {
     "name": "stdout",
     "output_type": "stream",
     "text": [
      "start:0, group:a\n",
      "start:1, group:a\n",
      "start:2, group:\n",
      "start:3, group:\n",
      "start:4, group:a\n",
      "start:5, group:\n",
      "start:6, group:\n",
      "start:7, group:\n",
      "start:8, group:\n",
      "start:9, group:a\n",
      "start:10, group:\n",
      "start:11, group:\n"
     ]
    }
   ],
   "source": [
    "matcher = re.finditer('a?','aacia07bca;')\n",
    "for match in matcher:\n",
    "    print(\"start:{}, group:{}\".format(match.start(),match.group()))"
   ]
  },
  {
   "cell_type": "code",
   "execution_count": 16,
   "metadata": {},
   "outputs": [
    {
     "name": "stdout",
     "output_type": "stream",
     "text": [
      "start:0, group:aa\n"
     ]
    }
   ],
   "source": [
    "matcher = re.finditer('a{2}','aacia07bca;')\n",
    "for match in matcher:\n",
    "    print(\"start:{}, group:{}\".format(match.start(),match.group()))"
   ]
  },
  {
   "cell_type": "markdown",
   "metadata": {},
   "source": [
    "<b> Other important functions of Regular Expression Library. </b>\n",
    "\n",
    "<ol>\n",
    "    <li><b>match()</b> ----> To check the given pattern is available at the beginning of the target string or not. if its matches return Match Object otherwise None</li>\n",
    "    <li><b>fullmatch()</b> ----> To match the complete pattern is given for checking in the target string</li>\n",
    "    <li><b>search()</b> ----> Returns a Match object if there is a match anywhere in the string otherwise None.</li>\n",
    "    <li><b>findall()</b> ----> Returns a list containing all matches. </li>\n",
    "    <li><b>sub(pattern, replacement, target_string)</b> ----> Replaces the matches with the text of your choice </li>\n",
    "    <li><b>subn()</b></li>\n",
    "    <li><b>split()</b> ----> Returns a list where the string has been split at each match.</li>\n",
    "</ol>"
   ]
  },
  {
   "cell_type": "code",
   "execution_count": 17,
   "metadata": {},
   "outputs": [
    {
     "name": "stdout",
     "output_type": "stream",
     "text": [
      "Enter pattern to check:aa\n",
      "Match is available at the beginning of the string\n",
      "Start Index:0 and ENd Index:2\n"
     ]
    }
   ],
   "source": [
    "target = input('Enter pattern to check:')\n",
    "matcher = re.match(target,'aacia07bca')\n",
    "if matcher!= None:\n",
    "    print('Match is available at the beginning of the string')\n",
    "    print('Start Index:{} and ENd Index:{}'.format(matcher.start(),matcher.end()))\n",
    "else:\n",
    "    print(\"Match is not available at the beginning of the string\")"
   ]
  },
  {
   "cell_type": "code",
   "execution_count": 18,
   "metadata": {},
   "outputs": [
    {
     "name": "stdout",
     "output_type": "stream",
     "text": [
      "Enter pattern to check:aacia07bca\n",
      " Full string is matched.\n"
     ]
    }
   ],
   "source": [
    "target = input('Enter pattern to check:')\n",
    "matcher = re.fullmatch(target,'aacia07bca')\n",
    "if matcher!= None:\n",
    "    print(' Full string is matched.')\n",
    "else:\n",
    "    print(\"Full string is not matched.\")"
   ]
  },
  {
   "cell_type": "code",
   "execution_count": 19,
   "metadata": {},
   "outputs": [
    {
     "name": "stdout",
     "output_type": "stream",
     "text": [
      "['0', '7']\n"
     ]
    }
   ],
   "source": [
    "matcher = re.findall('[0-9]','aacia07bca')\n",
    "print(matcher)"
   ]
  }
 ],
 "metadata": {
  "kernelspec": {
   "display_name": "Python 3",
   "language": "python",
   "name": "python3"
  },
  "language_info": {
   "codemirror_mode": {
    "name": "ipython",
    "version": 3
   },
   "file_extension": ".py",
   "mimetype": "text/x-python",
   "name": "python",
   "nbconvert_exporter": "python",
   "pygments_lexer": "ipython3",
   "version": "3.7.3"
  }
 },
 "nbformat": 4,
 "nbformat_minor": 2
}
